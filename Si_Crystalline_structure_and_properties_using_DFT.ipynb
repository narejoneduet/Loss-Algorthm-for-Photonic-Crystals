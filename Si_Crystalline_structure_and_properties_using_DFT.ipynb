{
  "cells": [
    {
      "cell_type": "markdown",
      "metadata": {
        "id": "view-in-github",
        "colab_type": "text"
      },
      "source": [
        "<a href=\"https://colab.research.google.com/github/narejoneduet/Loss-Algorthm-for-Photonic-Crystals/blob/main/Si_Crystalline_structure_and_properties_using_DFT.ipynb\" target=\"_parent\"><img src=\"https://colab.research.google.com/assets/colab-badge.svg\" alt=\"Open In Colab\"/></a>"
      ]
    },
    {
      "cell_type": "markdown",
      "source": [
        "Sure, here is a simple Python code that prints \"Hello, World!\" to the console:"
      ],
      "metadata": {
        "id": "kgig2qd5Udex"
      }
    },
    {
      "cell_type": "code",
      "source": [
        "!pip install ase\n",
        "!pip install pyscf\n"
      ],
      "metadata": {
        "colab": {
          "base_uri": "https://localhost:8080/"
        },
        "id": "kGyyIk2fU79g",
        "outputId": "28787b4c-fdda-4230-d0cc-efa70b4b761b"
      },
      "execution_count": 3,
      "outputs": [
        {
          "output_type": "stream",
          "name": "stdout",
          "text": [
            "Looking in indexes: https://pypi.org/simple, https://us-python.pkg.dev/colab-wheels/public/simple/\n",
            "Collecting ase\n",
            "  Downloading ase-3.22.1-py3-none-any.whl (2.2 MB)\n",
            "\u001b[2K     \u001b[90m━━━━━━━━━━━━━━━━━━━━━━━━━━━━━━━━━━━━━━━━\u001b[0m \u001b[32m2.2/2.2 MB\u001b[0m \u001b[31m34.3 MB/s\u001b[0m eta \u001b[36m0:00:00\u001b[0m\n",
            "\u001b[?25hRequirement already satisfied: matplotlib>=3.1.0 in /usr/local/lib/python3.10/dist-packages (from ase) (3.7.1)\n",
            "Requirement already satisfied: numpy>=1.15.0 in /usr/local/lib/python3.10/dist-packages (from ase) (1.22.4)\n",
            "Requirement already satisfied: scipy>=1.1.0 in /usr/local/lib/python3.10/dist-packages (from ase) (1.10.1)\n",
            "Requirement already satisfied: contourpy>=1.0.1 in /usr/local/lib/python3.10/dist-packages (from matplotlib>=3.1.0->ase) (1.0.7)\n",
            "Requirement already satisfied: cycler>=0.10 in /usr/local/lib/python3.10/dist-packages (from matplotlib>=3.1.0->ase) (0.11.0)\n",
            "Requirement already satisfied: fonttools>=4.22.0 in /usr/local/lib/python3.10/dist-packages (from matplotlib>=3.1.0->ase) (4.39.3)\n",
            "Requirement already satisfied: kiwisolver>=1.0.1 in /usr/local/lib/python3.10/dist-packages (from matplotlib>=3.1.0->ase) (1.4.4)\n",
            "Requirement already satisfied: packaging>=20.0 in /usr/local/lib/python3.10/dist-packages (from matplotlib>=3.1.0->ase) (23.1)\n",
            "Requirement already satisfied: pillow>=6.2.0 in /usr/local/lib/python3.10/dist-packages (from matplotlib>=3.1.0->ase) (8.4.0)\n",
            "Requirement already satisfied: pyparsing>=2.3.1 in /usr/local/lib/python3.10/dist-packages (from matplotlib>=3.1.0->ase) (3.0.9)\n",
            "Requirement already satisfied: python-dateutil>=2.7 in /usr/local/lib/python3.10/dist-packages (from matplotlib>=3.1.0->ase) (2.8.2)\n",
            "Requirement already satisfied: six>=1.5 in /usr/local/lib/python3.10/dist-packages (from python-dateutil>=2.7->matplotlib>=3.1.0->ase) (1.16.0)\n",
            "Installing collected packages: ase\n",
            "Successfully installed ase-3.22.1\n",
            "Looking in indexes: https://pypi.org/simple, https://us-python.pkg.dev/colab-wheels/public/simple/\n",
            "Collecting pyscf\n",
            "  Downloading pyscf-2.2.1-cp310-cp310-manylinux_2_17_x86_64.manylinux2014_x86_64.whl (47.7 MB)\n",
            "\u001b[2K     \u001b[90m━━━━━━━━━━━━━━━━━━━━━━━━━━━━━━━━━━━━━━━━\u001b[0m \u001b[32m47.7/47.7 MB\u001b[0m \u001b[31m21.4 MB/s\u001b[0m eta \u001b[36m0:00:00\u001b[0m\n",
            "\u001b[?25hRequirement already satisfied: numpy!=1.16,!=1.17,>=1.13 in /usr/local/lib/python3.10/dist-packages (from pyscf) (1.22.4)\n",
            "Requirement already satisfied: scipy!=1.5.0,!=1.5.1 in /usr/local/lib/python3.10/dist-packages (from pyscf) (1.10.1)\n",
            "Requirement already satisfied: h5py>=2.7 in /usr/local/lib/python3.10/dist-packages (from pyscf) (3.8.0)\n",
            "Installing collected packages: pyscf\n",
            "Successfully installed pyscf-2.2.1\n"
          ]
        }
      ]
    },
    {
      "cell_type": "code",
      "source": [
        "import numpy as np\n",
        "from ase.build import bulk\n",
        "from ase.io import write\n",
        "from pyscf import gto, scf\n",
        "\n",
        "# Define the lattice constant for Si\n",
        "a = 5.43\n",
        "\n",
        "# Create the Si crystal structure using ASE\n",
        "si = bulk('Si', 'diamond', a=a, cubic=True)\n",
        "\n",
        "# Convert the ASE structure to a PySCF molecule\n",
        "coords = si.get_positions()\n",
        "symbols = si.get_chemical_symbols()\n",
        "charges = si.get_atomic_numbers()\n",
        "\n",
        "mol = gto.M(\n",
        "    atom=[(symbols[i], coords[i]) for i in range(len(symbols))],\n",
        "    unit='angstrom',\n",
        "    basis='def2-SVP',\n",
        "    charge=charges.sum(),\n",
        "    spin=0\n",
        ")\n",
        "\n",
        "# Perform a DFT calculation using PySCF\n",
        "mf = scf.RKS(mol)\n",
        "mf.xc = 'lda,vwn'\n",
        "mf.kernel()\n",
        "\n",
        "# Extract the computed properties\n",
        "total_energy = mf.e_tot\n",
        "orb_energies = mf.mo_energy\n",
        "fermi_level = orb_energies[mol.nelectron // 2]  # Fermi level at half-filling\n",
        "band_gap = orb_energies[mol.nelectron // 2 + 1] - fermi_level  # Band gap at next level\n",
        "\n",
        "# Print the computed properties\n",
        "print(\"Total Energy: {:.4f} Hartree\".format(total_energy))\n",
        "print(\"Fermi Level: {:.4f} Hartree\".format(fermi_level))\n",
        "print(\"Band Gap: {:.4f} eV\".format(band_gap))\n",
        "\n",
        "# Save the optimized structure to a file\n",
        "write(\"si_optimized.xyz\", si)\n"
      ],
      "metadata": {
        "colab": {
          "base_uri": "https://localhost:8080/"
        },
        "id": "sbA6lgW9WVLg",
        "outputId": "a92cdb81-065d-4bf0-f07d-71f16a647a48"
      },
      "execution_count": 8,
      "outputs": [
        {
          "output_type": "stream",
          "name": "stdout",
          "text": [
            "converged SCF energy = 823.745093808207\n",
            "Total Energy: 823.7451 Hartree\n",
            "Fermi Level: -116.2898 Hartree\n",
            "Band Gap: 3.0108 eV\n"
          ]
        }
      ]
    }
  ],
  "metadata": {
    "colab": {
      "provenance": [],
      "include_colab_link": true
    },
    "kernelspec": {
      "display_name": "Python 3",
      "name": "python3"
    }
  },
  "nbformat": 4,
  "nbformat_minor": 0
}